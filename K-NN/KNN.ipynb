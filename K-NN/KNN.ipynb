{
 "cells": [
  {
   "cell_type": "markdown",
   "id": "8b65b87d",
   "metadata": {},
   "source": [
    "# K-Nearest Neighbors Classification\n",
    "\n",
    "In this notebook, we will perform classification using the K-Nearest Neighbors (KNN) algorithm on two different datasets: the Iris dataset and the Digits dataset. We will evaluate the performance of the KNN classifier using accuracy, confusion matrix, and classification report. Finally, we will visualize the confusion matrices.\n",
    "\n",
    "## 1. Importing Libraries\n",
    "\n",
    "Let's start by importing the necessary libraries."
   ]
  },
  {
   "cell_type": "code",
   "execution_count": 3,
   "id": "35f4adb7",
   "metadata": {},
   "outputs": [
    {
     "name": "stdout",
     "output_type": "stream",
     "text": [
      "Collecting seaborn\n",
      "  Downloading seaborn-0.13.2-py3-none-any.whl (294 kB)\n",
      "     ---------------------------------------- 0.0/294.9 kB ? eta -:--:--\n",
      "     ---------- ---------------------------- 81.9/294.9 kB 1.5 MB/s eta 0:00:01\n",
      "     ------------------------------- ------ 245.8/294.9 kB 3.0 MB/s eta 0:00:01\n",
      "     -------------------------------------- 294.9/294.9 kB 2.6 MB/s eta 0:00:00\n",
      "Collecting pandas>=1.2\n",
      "  Downloading pandas-2.2.2-cp310-cp310-win_amd64.whl (11.6 MB)\n",
      "     ---------------------------------------- 0.0/11.6 MB ? eta -:--:--\n",
      "      --------------------------------------- 0.2/11.6 MB 3.7 MB/s eta 0:00:04\n",
      "     -- ------------------------------------- 0.6/11.6 MB 7.6 MB/s eta 0:00:02\n",
      "     --- ------------------------------------ 0.9/11.6 MB 6.5 MB/s eta 0:00:02\n",
      "     ---- ----------------------------------- 1.3/11.6 MB 7.4 MB/s eta 0:00:02\n",
      "     ----- ---------------------------------- 1.7/11.6 MB 7.6 MB/s eta 0:00:02\n",
      "     ------- -------------------------------- 2.1/11.6 MB 7.3 MB/s eta 0:00:02\n",
      "     -------- ------------------------------- 2.5/11.6 MB 7.5 MB/s eta 0:00:02\n",
      "     ---------- ----------------------------- 2.9/11.6 MB 7.8 MB/s eta 0:00:02\n",
      "     ----------- ---------------------------- 3.3/11.6 MB 7.9 MB/s eta 0:00:02\n",
      "     ------------- -------------------------- 3.8/11.6 MB 8.1 MB/s eta 0:00:01\n",
      "     -------------- ------------------------- 4.2/11.6 MB 8.2 MB/s eta 0:00:01\n",
      "     ---------------- ----------------------- 4.7/11.6 MB 8.3 MB/s eta 0:00:01\n",
      "     ----------------- ---------------------- 5.2/11.6 MB 8.7 MB/s eta 0:00:01\n",
      "     ------------------- -------------------- 5.5/11.6 MB 8.4 MB/s eta 0:00:01\n",
      "     -------------------- ------------------- 6.0/11.6 MB 8.5 MB/s eta 0:00:01\n",
      "     ---------------------- ----------------- 6.5/11.6 MB 8.6 MB/s eta 0:00:01\n",
      "     ----------------------- ---------------- 6.9/11.6 MB 8.7 MB/s eta 0:00:01\n",
      "     ------------------------- -------------- 7.4/11.6 MB 8.8 MB/s eta 0:00:01\n",
      "     -------------------------- ------------- 7.8/11.6 MB 8.9 MB/s eta 0:00:01\n",
      "     ---------------------------- ----------- 8.2/11.6 MB 8.9 MB/s eta 0:00:01\n",
      "     ----------------------------- ---------- 8.6/11.6 MB 8.7 MB/s eta 0:00:01\n",
      "     ------------------------------ --------- 8.9/11.6 MB 8.8 MB/s eta 0:00:01\n",
      "     -------------------------------- ------- 9.3/11.6 MB 8.8 MB/s eta 0:00:01\n",
      "     --------------------------------- ------ 9.8/11.6 MB 8.8 MB/s eta 0:00:01\n",
      "     ---------------------------------- ----- 10.1/11.6 MB 8.7 MB/s eta 0:00:01\n",
      "     ----------------------------------- ---- 10.4/11.6 MB 8.8 MB/s eta 0:00:01\n",
      "     ------------------------------------- -- 10.8/11.6 MB 8.7 MB/s eta 0:00:01\n",
      "     -------------------------------------- - 11.2/11.6 MB 8.8 MB/s eta 0:00:01\n",
      "     ---------------------------------------  11.6/11.6 MB 8.8 MB/s eta 0:00:01\n",
      "     ---------------------------------------- 11.6/11.6 MB 8.5 MB/s eta 0:00:00\n",
      "Collecting matplotlib!=3.6.1,>=3.4\n",
      "  Downloading matplotlib-3.9.2-cp310-cp310-win_amd64.whl (7.8 MB)\n",
      "     ---------------------------------------- 0.0/7.8 MB ? eta -:--:--\n",
      "     -- ------------------------------------- 0.4/7.8 MB 8.7 MB/s eta 0:00:01\n",
      "     --- ------------------------------------ 0.7/7.8 MB 7.6 MB/s eta 0:00:01\n",
      "     ----- ---------------------------------- 1.2/7.8 MB 8.2 MB/s eta 0:00:01\n",
      "     ------- -------------------------------- 1.6/7.8 MB 8.3 MB/s eta 0:00:01\n",
      "     --------- ------------------------------ 1.9/7.8 MB 8.7 MB/s eta 0:00:01\n",
      "     ----------- ---------------------------- 2.3/7.8 MB 8.2 MB/s eta 0:00:01\n",
      "     ------------- -------------------------- 2.7/7.8 MB 8.7 MB/s eta 0:00:01\n",
      "     ---------------- ----------------------- 3.1/7.8 MB 8.7 MB/s eta 0:00:01\n",
      "     ----------------- ---------------------- 3.5/7.8 MB 8.6 MB/s eta 0:00:01\n",
      "     -------------------- ------------------- 3.9/7.8 MB 8.7 MB/s eta 0:00:01\n",
      "     ---------------------- ----------------- 4.4/7.8 MB 8.7 MB/s eta 0:00:01\n",
      "     ------------------------ --------------- 4.8/7.8 MB 8.7 MB/s eta 0:00:01\n",
      "     -------------------------- ------------- 5.2/7.8 MB 8.7 MB/s eta 0:00:01\n",
      "     ---------------------------- ----------- 5.7/7.8 MB 8.8 MB/s eta 0:00:01\n",
      "     ------------------------------- -------- 6.1/7.8 MB 8.8 MB/s eta 0:00:01\n",
      "     --------------------------------- ------ 6.5/7.8 MB 8.8 MB/s eta 0:00:01\n",
      "     ----------------------------------- ---- 6.9/7.8 MB 8.8 MB/s eta 0:00:01\n",
      "     ------------------------------------- -- 7.3/7.8 MB 8.8 MB/s eta 0:00:01\n",
      "     ---------------------------------------  7.7/7.8 MB 8.8 MB/s eta 0:00:01\n",
      "     ---------------------------------------  7.8/7.8 MB 8.8 MB/s eta 0:00:01\n",
      "     ---------------------------------------- 7.8/7.8 MB 8.3 MB/s eta 0:00:00\n",
      "Requirement already satisfied: numpy!=1.24.0,>=1.20 in c:\\users\\sumit paul\\appdata\\local\\programs\\python\\python310\\lib\\site-packages (from seaborn) (1.24.4)\n",
      "Collecting kiwisolver>=1.3.1\n",
      "  Downloading kiwisolver-1.4.7-cp310-cp310-win_amd64.whl (55 kB)\n",
      "     ---------------------------------------- 0.0/55.9 kB ? eta -:--:--\n",
      "     ---------------------------------------- 55.9/55.9 kB ? eta 0:00:00\n",
      "Requirement already satisfied: packaging>=20.0 in c:\\users\\sumit paul\\appdata\\local\\programs\\python\\python310\\lib\\site-packages (from matplotlib!=3.6.1,>=3.4->seaborn) (23.1)\n",
      "Requirement already satisfied: python-dateutil>=2.7 in c:\\users\\sumit paul\\appdata\\roaming\\python\\python310\\site-packages (from matplotlib!=3.6.1,>=3.4->seaborn) (2.9.0.post0)\n",
      "Collecting cycler>=0.10\n",
      "  Downloading cycler-0.12.1-py3-none-any.whl (8.3 kB)\n",
      "Collecting pyparsing>=2.3.1\n",
      "  Using cached pyparsing-3.1.4-py3-none-any.whl (104 kB)\n",
      "Requirement already satisfied: pillow>=8 in c:\\users\\sumit paul\\appdata\\local\\programs\\python\\python310\\lib\\site-packages (from matplotlib!=3.6.1,>=3.4->seaborn) (9.3.0)\n",
      "Collecting contourpy>=1.0.1\n",
      "  Downloading contourpy-1.3.0-cp310-cp310-win_amd64.whl (216 kB)\n",
      "     ---------------------------------------- 0.0/216.0 kB ? eta -:--:--\n",
      "     -------------------------------------- 216.0/216.0 kB 6.6 MB/s eta 0:00:00\n",
      "Collecting fonttools>=4.22.0\n",
      "  Downloading fonttools-4.53.1-cp310-cp310-win_amd64.whl (2.2 MB)\n",
      "     ---------------------------------------- 0.0/2.2 MB ? eta -:--:--\n",
      "     ---------- ----------------------------- 0.6/2.2 MB 11.5 MB/s eta 0:00:01\n",
      "     ------------------ --------------------- 1.0/2.2 MB 10.7 MB/s eta 0:00:01\n",
      "     ---------------------------- ----------- 1.6/2.2 MB 11.2 MB/s eta 0:00:01\n",
      "     ------------------------------------ --- 2.0/2.2 MB 10.6 MB/s eta 0:00:01\n",
      "     ---------------------------------------- 2.2/2.2 MB 10.0 MB/s eta 0:00:00\n",
      "Collecting tzdata>=2022.7\n",
      "  Downloading tzdata-2024.1-py2.py3-none-any.whl (345 kB)\n",
      "     ---------------------------------------- 0.0/345.4 kB ? eta -:--:--\n",
      "     ------------------------------------- 345.4/345.4 kB 10.5 MB/s eta 0:00:00\n",
      "Collecting pytz>=2020.1\n",
      "  Downloading pytz-2024.1-py2.py3-none-any.whl (505 kB)\n",
      "     ---------------------------------------- 0.0/505.5 kB ? eta -:--:--\n",
      "     ----------------------------- ------- 399.4/505.5 kB 12.6 MB/s eta 0:00:01\n",
      "     ------------------------------------- 505.5/505.5 kB 10.5 MB/s eta 0:00:00\n",
      "Requirement already satisfied: six>=1.5 in c:\\users\\sumit paul\\appdata\\local\\programs\\python\\python310\\lib\\site-packages (from python-dateutil>=2.7->matplotlib!=3.6.1,>=3.4->seaborn) (1.16.0)\n",
      "Installing collected packages: pytz, tzdata, pyparsing, kiwisolver, fonttools, cycler, contourpy, pandas, matplotlib, seaborn\n",
      "Successfully installed contourpy-1.3.0 cycler-0.12.1 fonttools-4.53.1 kiwisolver-1.4.7 matplotlib-3.9.2 pandas-2.2.2 pyparsing-3.1.4 pytz-2024.1 seaborn-0.13.2 tzdata-2024.1\n",
      "Note: you may need to restart the kernel to use updated packages.\n"
     ]
    },
    {
     "name": "stderr",
     "output_type": "stream",
     "text": [
      "\n",
      "[notice] A new release of pip is available: 23.0.1 -> 24.2\n",
      "[notice] To update, run: python.exe -m pip install --upgrade pip\n"
     ]
    }
   ],
   "source": [
    "%pip install seaborn"
   ]
  },
  {
   "cell_type": "code",
   "execution_count": 4,
   "id": "85f77b87-773f-42cc-8b1c-1c85c1c3776b",
   "metadata": {},
   "outputs": [],
   "source": [
    "from sklearn.neighbors import KNeighborsClassifier\n",
    "from sklearn.model_selection import train_test_split\n",
    "from sklearn.metrics import accuracy_score,confusion_matrix,classification_report\n",
    "import seaborn as sb \n",
    "import matplotlib.pyplot as plt \n",
    "from sklearn.datasets import load_iris,load_digits"
   ]
  },
  {
   "cell_type": "markdown",
   "id": "61f937d3",
   "metadata": {},
   "source": [
    "## 2. Classification on Iris Dataset\n",
    "\n",
    "We will load the Iris dataset, split it into training and testing sets, train the KNN classifier, and evaluate its performance. Finally, we will visualize the confusion matrix."
   ]
  },
  {
   "cell_type": "code",
   "execution_count": 5,
   "id": "177d7e41-b906-4bf3-8798-545956299732",
   "metadata": {},
   "outputs": [],
   "source": [
    "# Load Iris dataset\n",
    "iris_data = load_iris()\n",
    "x = iris_data.data\n",
    "y = iris_data.target"
   ]
  },
  {
   "cell_type": "code",
   "execution_count": 7,
   "id": "a9ee8c76-e695-4f8e-bd63-64cd58db6517",
   "metadata": {},
   "outputs": [
    {
     "name": "stdout",
     "output_type": "stream",
     "text": [
      "=== Iris Dataset ===\n",
      "Accuracy: 0.9666666666666667\n",
      "Confusion Matrix:\n",
      " [[10  0  0]\n",
      " [ 0  8  1]\n",
      " [ 0  0 11]]\n",
      "Classification Report:               precision    recall  f1-score   support\n",
      "\n",
      "           0       1.00      1.00      1.00        10\n",
      "           1       1.00      0.89      0.94         9\n",
      "           2       0.92      1.00      0.96        11\n",
      "\n",
      "    accuracy                           0.97        30\n",
      "   macro avg       0.97      0.96      0.97        30\n",
      "weighted avg       0.97      0.97      0.97        30\n",
      "\n"
     ]
    },
    {
     "data": {
      "image/png": "[encoded data removed]",
      "text/plain": [
       "<Figure size 640x480 with 2 Axes>"
      ]
     },
     "metadata": {},
     "output_type": "display_data"
    }
   ],
   "source": [
    "# Split the data\n",
    "x_train, x_test, y_train, y_test = train_test_split(x, y, test_size=0.2, random_state=42)\n",
    "\n",
    "# Train KNN classifier\n",
    "knn = KNeighborsClassifier(n_neighbors=7)\n",
    "knn.fit(x_train, y_train)\n",
    "y_pred = knn.predict(x_test)\n",
    "\n",
    "# Calculate metrics\n",
    "cm = confusion_matrix(y_test, y_pred)\n",
    "print('=== Iris Dataset ===')\n",
    "print('Accuracy:', accuracy_score(y_test, y_pred))\n",
    "print('Confusion Matrix:\\n', cm)\n",
    "print('Classification Report:', classification_report(y_test, y_pred))\n",
    "\n",
    "# Plot confusion matrix for Iris dataset\n",
    "sb.heatmap(cm, annot=True, fmt='d', cmap='Purples')\n",
    "plt.xlabel(\"Predicted Label\")\n",
    "plt.ylabel(\"True Label\")\n",
    "plt.title('Confusion Matrix for Iris Dataset')\n",
    "plt.show()"
   ]
  },
  {
   "cell_type": "markdown",
   "id": "bcdbbdf5",
   "metadata": {},
   "source": [
    "## 3. Classification on Digits Dataset\n",
    "\n",
    "Similarly, we will load the Digits dataset, split it into training and testing sets, train the KNN classifier, and evaluate its performance. Finally, we will visualize the confusion matrix."
   ]
  },
  {
   "cell_type": "code",
   "execution_count": 4,
   "id": "32f78daf-46e0-4ebe-8c20-3ac10a35ee43",
   "metadata": {},
   "outputs": [],
   "source": [
    "# Load Digits dataset\n",
    "digits_data = load_digits()\n",
    "x = digits_data.data\n",
    "y = digits_data.target"
   ]
  },
  {
   "cell_type": "code",
   "execution_count": 5,
   "id": "b00c459f-0b9a-4b16-b698-2d28ead2bcfb",
   "metadata": {},
   "outputs": [
    {
     "name": "stdout",
     "output_type": "stream",
     "text": [
      "=== Digits Dataset ===\n",
      "Accuracy: 0.9888888888888889\n",
      "Confusion Matrix:\n",
      " [[33  0  0  0  0  0  0  0  0  0]\n",
      " [ 0 28  0  0  0  0  0  0  0  0]\n",
      " [ 0  0 33  0  0  0  0  0  0  0]\n",
      " [ 0  0  0 34  0  0  0  0  0  0]\n",
      " [ 0  0  0  0 46  0  0  0  0  0]\n",
      " [ 0  0  0  0  0 46  1  0  0  0]\n",
      " [ 0  0  0  0  0  0 35  0  0  0]\n",
      " [ 0  0  0  0  0  0  0 33  0  1]\n",
      " [ 0  0  0  0  0  0  0  0 30  0]\n",
      " [ 0  0  0  0  1  1  0  0  0 38]]\n",
      "Classification Report:               precision    recall  f1-score   support\n",
      "\n",
      "           0       1.00      1.00      1.00        33\n",
      "           1       1.00      1.00      1.00        28\n",
      "           2       1.00      1.00      1.00        33\n",
      "           3       1.00      1.00      1.00        34\n",
      "           4       0.98      1.00      0.99        46\n",
      "           5       0.98      0.98      0.98        47\n",
      "           6       0.97      1.00      0.99        35\n",
      "           7       1.00      0.97      0.99        34\n",
      "           8       1.00      1.00      1.00        30\n",
      "           9       0.97      0.95      0.96        40\n",
      "\n",
      "    accuracy                           0.99       360\n",
      "   macro avg       0.99      0.99      0.99       360\n",
      "weighted avg       0.99      0.99      0.99       360\n",
      "\n"
     ]
    },
    {
     "data": {
      "image/png": "[encoded data removed]",
      "text/plain": [
       "<Figure size 640x480 with 2 Axes>"
      ]
     },
     "metadata": {},
     "output_type": "display_data"
    }
   ],
   "source": [
    "# Split the data\n",
    "x_train, x_test, y_train, y_test = train_test_split(x, y, test_size=0.2, random_state=42)\n",
    "\n",
    "# Train KNN classifier\n",
    "knn = KNeighborsClassifier(n_neighbors=7)\n",
    "knn.fit(x_train, y_train)\n",
    "y_pred = knn.predict(x_test)\n",
    "\n",
    "# Calculate metrics\n",
    "cm = confusion_matrix(y_test, y_pred)\n",
    "print('=== Digits Dataset ===')\n",
    "print('Accuracy:', accuracy_score(y_test, y_pred))\n",
    "print('Confusion Matrix:\\n', cm)\n",
    "print('Classification Report:', classification_report(y_test, y_pred))\n",
    "\n",
    "# Plot confusion matrix for Digits dataset\n",
    "sb.heatmap(cm, annot=True, fmt='d', cmap='Oranges')\n",
    "plt.xlabel(\"Predicted Label\", fontsize=12)\n",
    "plt.ylabel(\"True Label\", fontsize=12)\n",
    "plt.title('Confusion Matrix for Digits Dataset')\n",
    "plt.show()"
   ]
  }
 ],
 "metadata": {
  "kernelspec": {
   "display_name": "Python 3 (ipykernel)",
   "language": "python",
   "name": "python3"
  },
  "language_info": {
   "codemirror_mode": {
    "name": "ipython",
    "version": 3
   },
   "file_extension": ".py",
   "mimetype": "text/x-python",
   "name": "python",
   "nbconvert_exporter": "python",
   "pygments_lexer": "ipython3",
   "version": "3.11.7"
  }
 },
 "nbformat": 4,
 "nbformat_minor": 5
}
